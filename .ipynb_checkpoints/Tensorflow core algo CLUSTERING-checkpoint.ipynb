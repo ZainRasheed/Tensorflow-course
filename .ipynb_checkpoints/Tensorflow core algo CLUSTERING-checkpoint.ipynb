{
 "cells": [
  {
   "cell_type": "code",
   "execution_count": 1,
   "metadata": {},
   "outputs": [
    {
     "data": {
      "text/plain": [
       "' CLASSIFICATION... HIDDEN MARKOV MODELS\\n- IMPORTS\\nhttps://colab.research.google.com/drive/15Cyy2H7nT40sGR7TBN5wBvgTd57mVKay#forceEdit=true&sandboxMode=true&scrollTo=IEeIRxlbx0wY\\n'"
      ]
     },
     "execution_count": 1,
     "metadata": {},
     "output_type": "execute_result"
    }
   ],
   "source": [
    "\"\"\" CLASSIFICATION... HIDDEN MARKOV MODELS\n",
    "- IMPORTS\n",
    "https://colab.research.google.com/drive/15Cyy2H7nT40sGR7TBN5wBvgTd57mVKay#forceEdit=true&sandboxMode=true&scrollTo=IEeIRxlbx0wY\n",
    "\"\"\""
   ]
  },
  {
   "cell_type": "code",
   "execution_count": 2,
   "metadata": {},
   "outputs": [
    {
     "name": "stdout",
     "output_type": "stream",
     "text": [
      "Requirement already up-to-date: tensorflow_probability==0.8.0rc0 in c:\\users\\mohammeds2\\appdata\\roaming\\python\\python37\\site-packages (0.8.0rc0)\n",
      "Requirement already satisfied, skipping upgrade: cloudpickle==1.1.1 in c:\\users\\mohammeds2\\appdata\\roaming\\python\\python37\\site-packages (from tensorflow_probability==0.8.0rc0) (1.1.1)\n",
      "Requirement already satisfied, skipping upgrade: six>=1.10.0 in c:\\users\\mohammeds2\\appdata\\local\\continuum\\anaconda3\\lib\\site-packages (from tensorflow_probability==0.8.0rc0) (1.14.0)\n",
      "Requirement already satisfied, skipping upgrade: numpy>=1.13.3 in c:\\users\\mohammeds2\\appdata\\local\\continuum\\anaconda3\\lib\\site-packages (from tensorflow_probability==0.8.0rc0) (1.18.1)\n",
      "Requirement already satisfied, skipping upgrade: decorator in c:\\users\\mohammeds2\\appdata\\local\\continuum\\anaconda3\\lib\\site-packages (from tensorflow_probability==0.8.0rc0) (4.4.2)\n"
     ]
    }
   ],
   "source": [
    "#!pip install tensorflow_probability==0.8.0rc0 --user --upgrade"
   ]
  },
  {
   "cell_type": "code",
   "execution_count": 3,
   "metadata": {},
   "outputs": [
    {
     "name": "stdout",
     "output_type": "stream",
     "text": [
      "Requirement already satisfied: gast==0.2.2 in c:\\users\\mohammeds2\\appdata\\local\\continuum\\anaconda3\\lib\\site-packages (0.2.2)\n"
     ]
    }
   ],
   "source": [
    "#IMPORTS\n",
    "\n",
    "#To solve a gast error rollback gast upgreade to 0.2.2 initially it was 3.0.0\n",
    "#!pip install gast==0.2.2\n",
    "#Restart kernel\n",
    "\n",
    "#To upgrade back to 3.0.0\n",
    "#!pip install gast==3.0.0\n",
    "\n",
    "import tensorflow_probability as tfp  # We are using a different module from tensorflow this time\n",
    "import tensorflow as tf\n",
    "\n"
   ]
  },
  {
   "cell_type": "code",
   "execution_count": null,
   "metadata": {},
   "outputs": [],
   "source": [
    "\"\"\"\n",
    "Weather Model\n",
    "Taken direclty from the TensorFlow documentation (https://www.tensorflow.org/probability/api_docs/python/tfp/distributions/HiddenMarkovModel).\n",
    "\n",
    "We will model a simple weather system and try to predict the temperature on each day given the following information.\n",
    "\n",
    "Cold days are encoded by a 0 and hot days are encoded by a 1.\n",
    "The first day in our sequence has an 80% chance of being cold.\n",
    "A cold day has a 30% chance of being followed by a hot day.\n",
    "A hot day has a 20% chance of being followed by a cold day.\n",
    "On each day the temperature is normally distributed with mean and standard deviation 0 and 5 on a cold day and mean and standard deviation 15 and 10 on a hot day.\n",
    "If you're unfamiliar with standard deviation it can be put simply as the range of expected values.\n",
    "\n",
    "In this example, on a hot day the average temperature is 15 and ranges from 5 to 25.\n",
    "\n",
    "To model this in TensorFlow we will do the following.\n",
    "\"\"\""
   ]
  },
  {
   "cell_type": "code",
   "execution_count": 4,
   "metadata": {},
   "outputs": [],
   "source": [
    "tfd = tfp.distributions  # making a shortcut for later on\n",
    "initial_distribution = tfd.Categorical(probs=[0.2, 0.8])  # Refer to point 2 above\n",
    "transition_distribution = tfd.Categorical(probs=[[0.5, 0.5],\n",
    "                                                 [0.2, 0.8]])  # refer to points 3 and 4 above\n",
    "observation_distribution = tfd.Normal(loc=[0., 15.], scale=[5., 10.])  # refer to point 5 above\n",
    "\n",
    "# the loc argument represents the mean and the scale is the standard devitation"
   ]
  },
  {
   "cell_type": "code",
   "execution_count": 5,
   "metadata": {},
   "outputs": [],
   "source": [
    "model = tfd.HiddenMarkovModel(\n",
    "    initial_distribution=initial_distribution,\n",
    "    transition_distribution=transition_distribution,\n",
    "    observation_distribution=observation_distribution,\n",
    "    num_steps=7)"
   ]
  },
  {
   "cell_type": "code",
   "execution_count": 6,
   "metadata": {},
   "outputs": [
    {
     "name": "stdout",
     "output_type": "stream",
     "text": [
      "WARNING:tensorflow:From C:\\Users\\mohammeds2\\AppData\\Local\\Continuum\\anaconda3\\lib\\site-packages\\tensorflow_core\\python\\ops\\math_ops.py:2520: where (from tensorflow.python.ops.array_ops) is deprecated and will be removed in a future version.\n",
      "Instructions for updating:\n",
      "Use tf.where in 2.0, which has the same broadcast rule as np.where\n",
      "[12.       11.1      10.83     10.749001 10.7247   10.717411 10.715224]\n"
     ]
    }
   ],
   "source": [
    "# The number of steps represents the number of days that we would like to predict information for. In this case we've chosen 7, an entire week.\n",
    "# To get the expected temperatures on each day we can do the following.\n",
    "mean = model.mean()\n",
    "\n",
    "# due to the way TensorFlow works on a lower level we need to evaluate part of the graph\n",
    "# from within a session to see the value of this tensor\n",
    "\n",
    "# in the new version of tensorflow we need to use tf.compat.v1.Session() rather than just tf.Session()\n",
    "with tf.compat.v1.Session() as sess:  \n",
    "  print(mean.numpy())"
   ]
  },
  {
   "cell_type": "code",
   "execution_count": null,
   "metadata": {},
   "outputs": [],
   "source": []
  }
 ],
 "metadata": {
  "kernelspec": {
   "display_name": "Python 3",
   "language": "python",
   "name": "python3"
  },
  "language_info": {
   "codemirror_mode": {
    "name": "ipython",
    "version": 3
   },
   "file_extension": ".py",
   "mimetype": "text/x-python",
   "name": "python",
   "nbconvert_exporter": "python",
   "pygments_lexer": "ipython3",
   "version": "3.7.3"
  }
 },
 "nbformat": 4,
 "nbformat_minor": 4
}
