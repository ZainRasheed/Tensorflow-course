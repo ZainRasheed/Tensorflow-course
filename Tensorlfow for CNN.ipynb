{
 "cells": [
  {
   "cell_type": "code",
   "execution_count": 1,
   "metadata": {},
   "outputs": [
    {
     "data": {
      "text/plain": [
       "'\\nCNN with KERAS\\nPRETRAINED MODEL\\nFINE TUNING\\nLINK : https://colab.research.google.com/drive/1m2cg3D1x3j5vrFc-Cu0gMvc48gWyCOuG#forceEdit=true&sandboxMode=true\\n@author: MohammedS2\\n\\n'"
      ]
     },
     "execution_count": 1,
     "metadata": {},
     "output_type": "execute_result"
    }
   ],
   "source": [
    "# -*- coding: utf-8 -*-\n",
    "\"\"\"\n",
    "CNN with KERAS\n",
    "PRETRAINED MODEL\n",
    "FINE TUNING\n",
    "LINK : https://colab.research.google.com/drive/1ZZXnCjFEOkp_KdNcNabd14yok0BAIuwS#forceEdit=true&sandboxMode=true\n",
    "@author: MohammedS2\n",
    "\n",
    "\"\"\""
   ]
  },
  {
   "cell_type": "code",
   "execution_count": 2,
   "metadata": {},
   "outputs": [
    {
     "data": {
      "text/plain": [
       "'\\nIMPORTS\\n'"
      ]
     },
     "execution_count": 2,
     "metadata": {},
     "output_type": "execute_result"
    }
   ],
   "source": [
    "\"\"\"\"CNN with KERAS\"\"\"\n",
    "\"\"\"\n",
    "IMPORTS\n",
    "COLLECTING DATA, CLEANING\n",
    "PLOT 3D IMG DATA\n",
    "CNN ARCH/CREATIN MODEL\n",
    "ANN ARCH\n",
    "TRAINING\n",
    "\"\"\""
   ]
  },
  {
   "cell_type": "code",
   "execution_count": 39,
   "metadata": {},
   "outputs": [],
   "source": [
    "import tensorflow as tf\n",
    "\n",
    "from tensorflow.keras import datasets, layers, models\n",
    "import matplotlib.pyplot as plt\n",
    "import numpy as np"
   ]
  },
  {
   "cell_type": "code",
   "execution_count": 21,
   "metadata": {},
   "outputs": [
    {
     "data": {
      "text/plain": [
       "(50000, 32, 32, 3)"
      ]
     },
     "execution_count": 21,
     "metadata": {},
     "output_type": "execute_result"
    }
   ],
   "source": [
    "(train_set, train_label),(test_set, test_label) = datasets.cifar10.load_data() #Image data, stored in a list of 3dArray, array of objects basically\n",
    "\n",
    "train_set, test_set = train_set/255.0, test_set/255.0\n",
    "\n",
    "CLASS_NAMES = ['plane', 'automobile', 'bird', 'cat', 'deer', 'dog', 'frog', 'horse', 'ship', 'truck']\n",
    "train_set.shape"
   ]
  },
  {
   "cell_type": "code",
   "execution_count": 22,
   "metadata": {},
   "outputs": [
    {
     "data": {
      "image/png": "[encoded data removed]",
      "text/plain": [
       "<Figure size 432x288 with 1 Axes>"
      ]
     },
     "metadata": {
      "needs_background": "light"
     },
     "output_type": "display_data"
    }
   ],
   "source": [
    "IMG_INDEX = 499\n",
    "\n",
    "plt.imshow(train_set[IMG_INDEX], cmap = plt.cm.binary)\n",
    "plt.xlabel(CLASS_NAMES[train_label[IMG_INDEX][0]]) \n",
    "plt.show()"
   ]
  },
  {
   "cell_type": "code",
   "execution_count": 27,
   "metadata": {},
   "outputs": [],
   "source": [
    "model = models.Sequential()\n",
    "model.add(layers.Conv2D(32, (3,3), activation='relu', input_shape=(32, 32, 3) ))\n",
    "model.add(layers.MaxPooling2D( (2,2) ))\n",
    "model.add(layers.Conv2D(64, (3,3), activation='relu'))\n",
    "model.add(layers.MaxPooling2D( (2,2) ))\n",
    "model.add(layers.Conv2D(64, (3,3), activation='relu'))\n",
    "\n",
    "#Layer 1\n",
    "#The input shape of our data will be 32, 32, 3 and we will process 32 filters of size 3x3 over our input data. We will also apply the activation function relu to the output of each convolution operation.\n",
    "\n",
    "#Layer 2\n",
    "#This layer will perform the max pooling operation using 2x2 samples and a stride of 2.\n",
    "\n",
    "#Other Layers\n",
    "#The next set of layers do very similar things but take as input the feature map from the previous layer. They also increase the frequency of filters from 32 to 64. We can do this as our data shrinks in spacial dimensions as it passed through the layers, meaning we can afford (computationally) to add more depth."
   ]
  },
  {
   "cell_type": "code",
   "execution_count": 28,
   "metadata": {},
   "outputs": [
    {
     "name": "stdout",
     "output_type": "stream",
     "text": [
      "Model: \"sequential_1\"\n",
      "_________________________________________________________________\n",
      "Layer (type)                 Output Shape              Param #   \n",
      "=================================================================\n",
      "conv2d (Conv2D)              (None, 30, 30, 32)        896       \n",
      "_________________________________________________________________\n",
      "max_pooling2d (MaxPooling2D) (None, 15, 15, 32)        0         \n",
      "_________________________________________________________________\n",
      "conv2d_1 (Conv2D)            (None, 13, 13, 64)        18496     \n",
      "_________________________________________________________________\n",
      "max_pooling2d_1 (MaxPooling2 (None, 6, 6, 64)          0         \n",
      "_________________________________________________________________\n",
      "conv2d_2 (Conv2D)            (None, 4, 4, 64)          36928     \n",
      "=================================================================\n",
      "Total params: 56,320\n",
      "Trainable params: 56,320\n",
      "Non-trainable params: 0\n",
      "_________________________________________________________________\n"
     ]
    }
   ],
   "source": [
    "model.summary()"
   ]
  },
  {
   "cell_type": "code",
   "execution_count": 30,
   "metadata": {},
   "outputs": [],
   "source": [
    "#ANN/Dense layer\n",
    "model.add(layers.Flatten())\n",
    "model.add(layers.Dense(64, activation='relu'))\n",
    "model.add(layers.Dense(10))"
   ]
  },
  {
   "cell_type": "code",
   "execution_count": 31,
   "metadata": {},
   "outputs": [
    {
     "name": "stdout",
     "output_type": "stream",
     "text": [
      "Model: \"sequential_1\"\n",
      "_________________________________________________________________\n",
      "Layer (type)                 Output Shape              Param #   \n",
      "=================================================================\n",
      "conv2d (Conv2D)              (None, 30, 30, 32)        896       \n",
      "_________________________________________________________________\n",
      "max_pooling2d (MaxPooling2D) (None, 15, 15, 32)        0         \n",
      "_________________________________________________________________\n",
      "conv2d_1 (Conv2D)            (None, 13, 13, 64)        18496     \n",
      "_________________________________________________________________\n",
      "max_pooling2d_1 (MaxPooling2 (None, 6, 6, 64)          0         \n",
      "_________________________________________________________________\n",
      "conv2d_2 (Conv2D)            (None, 4, 4, 64)          36928     \n",
      "_________________________________________________________________\n",
      "flatten (Flatten)            (None, 1024)              0         \n",
      "_________________________________________________________________\n",
      "dense (Dense)                (None, 64)                65600     \n",
      "_________________________________________________________________\n",
      "dense_1 (Dense)              (None, 10)                650       \n",
      "=================================================================\n",
      "Total params: 122,570\n",
      "Trainable params: 122,570\n",
      "Non-trainable params: 0\n",
      "_________________________________________________________________\n"
     ]
    }
   ],
   "source": [
    "model.summary()"
   ]
  },
  {
   "cell_type": "code",
   "execution_count": 35,
   "metadata": {},
   "outputs": [
    {
     "name": "stdout",
     "output_type": "stream",
     "text": [
      "Train on 50000 samples, validate on 10000 samples\n",
      "Epoch 1/10\n",
      "50000/50000 [==============================] - 68s 1ms/sample - loss: 1.5385 - accuracy: 0.4382 - val_loss: 1.2814 - val_accuracy: 0.5324\n",
      "Epoch 2/10\n",
      "50000/50000 [==============================] - 68s 1ms/sample - loss: 1.1451 - accuracy: 0.5956 - val_loss: 1.0773 - val_accuracy: 0.6170\n",
      "Epoch 3/10\n",
      "50000/50000 [==============================] - 71s 1ms/sample - loss: 0.9866 - accuracy: 0.6537 - val_loss: 0.9467 - val_accuracy: 0.6684\n",
      "Epoch 4/10\n",
      "50000/50000 [==============================] - 65s 1ms/sample - loss: 0.8893 - accuracy: 0.6890 - val_loss: 0.9418 - val_accuracy: 0.6676\n",
      "Epoch 5/10\n",
      "50000/50000 [==============================] - 63s 1ms/sample - loss: 0.8229 - accuracy: 0.7129 - val_loss: 0.8877 - val_accuracy: 0.6927\n",
      "Epoch 6/10\n",
      "50000/50000 [==============================] - 65s 1ms/sample - loss: 0.7579 - accuracy: 0.7342 - val_loss: 0.8701 - val_accuracy: 0.7039\n",
      "Epoch 7/10\n",
      "50000/50000 [==============================] - 63s 1ms/sample - loss: 0.7077 - accuracy: 0.7534 - val_loss: 0.8520 - val_accuracy: 0.7110\n",
      "Epoch 8/10\n",
      "50000/50000 [==============================] - 63s 1ms/sample - loss: 0.6670 - accuracy: 0.7672 - val_loss: 0.8730 - val_accuracy: 0.7078\n",
      "Epoch 9/10\n",
      "50000/50000 [==============================] - 63s 1ms/sample - loss: 0.6241 - accuracy: 0.7805 - val_loss: 0.8653 - val_accuracy: 0.7173\n",
      "Epoch 10/10\n",
      "50000/50000 [==============================] - 63s 1ms/sample - loss: 0.5906 - accuracy: 0.7929 - val_loss: 0.8663 - val_accuracy: 0.7179\n"
     ]
    }
   ],
   "source": [
    "#TRAINING\n",
    "model.compile(optimizer='adam',\n",
    "              loss=tf.keras.losses.SparseCategoricalCrossentropy(from_logits=True),\n",
    "              metrics=['accuracy'])\n",
    "\n",
    "history = model.fit(train_set, train_label, epochs=10,\n",
    "                   validation_data=(test_set, test_label))"
   ]
  },
  {
   "cell_type": "code",
   "execution_count": 36,
   "metadata": {},
   "outputs": [],
   "source": [
    "#PREDICTION\n",
    "pred = model.predict(test_set)\n"
   ]
  },
  {
   "cell_type": "code",
   "execution_count": 45,
   "metadata": {},
   "outputs": [
    {
     "name": "stdout",
     "output_type": "stream",
     "text": [
      "deer\n"
     ]
    },
    {
     "data": {
      "image/png": "[encoded data removed]",
      "text/plain": [
       "<Figure size 432x288 with 1 Axes>"
      ]
     },
     "metadata": {
      "needs_background": "light"
     },
     "output_type": "display_data"
    }
   ],
   "source": [
    "IMG_INDEX = 4545\n",
    "\n",
    "pred[IMG_INDEX]\n",
    "print(CLASS_NAMES[np.argmax(pred[IMG_INDEX])])\n",
    "plt.imshow(test_set[IMG_INDEX], cmap = plt.cm.binary)\n",
    "plt.xlabel(CLASS_NAMES[test_label[IMG_INDEX][0]]) \n",
    "plt.show()"
   ]
  },
  {
   "cell_type": "code",
   "execution_count": null,
   "metadata": {},
   "outputs": [],
   "source": []
  }
 ],
 "metadata": {
  "kernelspec": {
   "display_name": "Python 3",
   "language": "python",
   "name": "python3"
  },
  "language_info": {
   "codemirror_mode": {
    "name": "ipython",
    "version": 3
   },
   "file_extension": ".py",
   "mimetype": "text/x-python",
   "name": "python",
   "nbconvert_exporter": "python",
   "pygments_lexer": "ipython3",
   "version": "3.7.3"
  }
 },
 "nbformat": 4,
 "nbformat_minor": 4
}
